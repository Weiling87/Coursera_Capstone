{
    "cells": [
        {
            "metadata": {},
            "cell_type": "code",
            "source": "import pandas as pd # library for data analysis\nimport requests # library to handle requests\nfrom bs4 import BeautifulSoup # library to parse HTML documents",
            "execution_count": 1,
            "outputs": []
        },
        {
            "metadata": {},
            "cell_type": "code",
            "source": "# get the response in the form of html\nwikiurl=\"https://en.wikipedia.org/wiki/List_of_postal_codes_of_Canada:_M\"\ntable_class=\"wikitable sortable jquery-tablesorter\"\nresponse=requests.get(wikiurl)\nprint(response.status_code)",
            "execution_count": 2,
            "outputs": [
                {
                    "output_type": "stream",
                    "text": "200\n",
                    "name": "stdout"
                }
            ]
        },
        {
            "metadata": {},
            "cell_type": "code",
            "source": "# parse data from the html into a beautifulsoup object\nsoup = BeautifulSoup(response.text, 'html.parser')\nindiatable=soup.find('table',{'class':\"wikitable\"})",
            "execution_count": 3,
            "outputs": []
        },
        {
            "metadata": {},
            "cell_type": "code",
            "source": "df=pd.read_html(str(indiatable))\n# convert list to dataframe\ndf=pd.DataFrame(df[0])\nprint(df.head())",
            "execution_count": 4,
            "outputs": [
                {
                    "output_type": "stream",
                    "text": "  Postal Code           Borough              Neighbourhood\n0         M1A      Not assigned               Not assigned\n1         M2A      Not assigned               Not assigned\n2         M3A        North York                  Parkwoods\n3         M4A        North York           Victoria Village\n4         M5A  Downtown Toronto  Regent Park, Harbourfront\n",
                    "name": "stdout"
                }
            ]
        },
        {
            "metadata": {},
            "cell_type": "code",
            "source": "# drop the rows with unassigned Borough\ndf=df[~df.Borough.str.contains(\"Not assigned\")].reset_index(drop=True)\nprint(df.head())",
            "execution_count": 18,
            "outputs": [
                {
                    "output_type": "stream",
                    "text": "  Postal Code           Borough                                Neighbourhood\n0         M3A        North York                                    Parkwoods\n1         M4A        North York                             Victoria Village\n2         M5A  Downtown Toronto                    Regent Park, Harbourfront\n3         M6A        North York             Lawrence Manor, Lawrence Heights\n4         M7A  Downtown Toronto  Queen's Park, Ontario Provincial Government\n",
                    "name": "stdout"
                }
            ]
        },
        {
            "metadata": {},
            "cell_type": "code",
            "source": "mask = df['Neighbourhood'] == \"Not assigned\"\ndf.loc[mask, 'Neighbourhood'] = df.loc[mask, 'Borough']\n\nprint(df.head())",
            "execution_count": 20,
            "outputs": [
                {
                    "output_type": "stream",
                    "text": "  Postal Code           Borough                                Neighbourhood\n0         M3A        North York                                    Parkwoods\n1         M4A        North York                             Victoria Village\n2         M5A  Downtown Toronto                    Regent Park, Harbourfront\n3         M6A        North York             Lawrence Manor, Lawrence Heights\n4         M7A  Downtown Toronto  Queen's Park, Ontario Provincial Government\n",
                    "name": "stdout"
                }
            ]
        },
        {
            "metadata": {},
            "cell_type": "code",
            "source": " df.shape",
            "execution_count": 21,
            "outputs": [
                {
                    "output_type": "execute_result",
                    "execution_count": 21,
                    "data": {
                        "text/plain": "(103, 3)"
                    },
                    "metadata": {}
                }
            ]
        },
        {
            "metadata": {},
            "cell_type": "code",
            "source": "",
            "execution_count": null,
            "outputs": []
        }
    ],
    "metadata": {
        "kernelspec": {
            "name": "python3",
            "display_name": "Python 3.7",
            "language": "python"
        },
        "language_info": {
            "name": "python",
            "version": "3.7.9",
            "mimetype": "text/x-python",
            "codemirror_mode": {
                "name": "ipython",
                "version": 3
            },
            "pygments_lexer": "ipython3",
            "nbconvert_exporter": "python",
            "file_extension": ".py"
        }
    },
    "nbformat": 4,
    "nbformat_minor": 1
}